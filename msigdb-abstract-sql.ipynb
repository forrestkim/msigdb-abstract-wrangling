{
 "cells": [
  {
   "cell_type": "markdown",
   "metadata": {},
   "source": [
    "# MSigDB Abstract SQLiteDB Query\n",
    "---\n",
    "\n",
    "\n",
    "### Process used to collect data from SQLite DB\n",
    "\n",
    "1. Go to https://www.gsea-msigdb.org/gsea/downloads.jsp\n",
    "2. Scroll down to the MSigDB Section\n",
    "3. Find \"Human MSigDB SQLite database (ZIPped)\"\n",
    "    - The Human MSigDB v2023.2.Hs contents and metadata in the form of a (ZIPped) SQLite database. See our [documentation](https://docs.gsea-msigdb.org/#MSigDB/MSigDB_SQLite_Database/) for more details on the contents and usage. \n",
    "4. Download the database\n",
    "\n",
    "![](https://docs.gsea-msigdb.org/MSigDB/SQLiteDBImages/msigdb_release.png)\n",
    "\n",
    "**Note:** FOUNDER_NAMES, REFINEMENT_DATASETS, and VALIDATION_DATASETS are not available from the SQLiteDB, but are still accessible through the GSEA Website."
   ]
  },
  {
   "cell_type": "code",
   "execution_count": 2,
   "metadata": {},
   "outputs": [],
   "source": [
    "import sqlite3\n",
    "con = sqlite3.connect(\"msigdb_v2023.2.Hs.db\")"
   ]
  },
  {
   "cell_type": "code",
   "execution_count": 3,
   "metadata": {},
   "outputs": [],
   "source": [
    "cur = con.cursor()"
   ]
  },
  {
   "cell_type": "code",
   "execution_count": 6,
   "metadata": {},
   "outputs": [],
   "source": [
    "res = cur.execute(\n",
    "    \"\"\"\n",
    "    SELECT gene_set.standard_name,\n",
    "        gene_set_details.description_brief,\n",
    "        gene_set_details.description_full\n",
    "    FROM gene_set\n",
    "    INNER JOIN gene_set_details ON gene_set.id = gene_set_details.gene_set_id\n",
    "    WHERE gene_set.standard_name = 'BERTUCCI_INVASIVE_CARCINOMA_DUCTAL_VS_LOBULAR_DN'\n",
    "    \"\"\"\n",
    ")"
   ]
  },
  {
   "cell_type": "code",
   "execution_count": 4,
   "metadata": {},
   "outputs": [],
   "source": [
    "res = cur.execute(\n",
    "    \"\"\"\n",
    "    SELECT gene_set.standard_name,\n",
    "        gene_set_details.description_brief,\n",
    "        gene_set_details.description_full\n",
    "    FROM gene_set\n",
    "    INNER JOIN gene_set_details ON gene_set.id = gene_set_details.gene_set_id\n",
    "    WHERE gene_set.collection_name = 'H'\n",
    "    \"\"\"\n",
    ")"
   ]
  },
  {
   "cell_type": "code",
   "execution_count": 7,
   "metadata": {},
   "outputs": [
    {
     "data": {
      "text/plain": [
       "[('BERTUCCI_INVASIVE_CARCINOMA_DUCTAL_VS_LOBULAR_DN',\n",
       "  'Genes down-regulated in the invasive ductal carcinoma (IDC) compared to the invasive lobular carcinoma (ILC), the two major pathological types of breast cancer.',\n",
       "  'Invasive ductal carcinomas (IDCs) and invasive lobular carcinomas (ILCs) are the two major pathological types of breast cancer. Epidemiological and histoclinical data suggest biological differences, but little is known about the molecular alterations involved in ILCs. We undertook a comparative large-scale study by both array-compared genomic hybridization and cDNA microarray of a set of 50 breast tumors (21 classic ILCs and 29 IDCs) selected on homogeneous histoclinical criteria. Results were validated on independent tumor sets, as well as by quantitative RT-PCR. ILCs and IDCs presented differences at both the genomic and expression levels with ILCs being less rearranged and heterogeneous than IDCs. Supervised analysis defined a 75-BACs signature discriminating accurately ILCs from IDCs. Expression profiles identified two subgroups of ILCs: typical ILCs ( approximately 50%), which were homogeneous and displayed a normal-like molecular pattern, and atypical ILCs, more heterogeneous with features intermediate between ILCs and IDCs. Supervised analysis identified a 75-gene expression signature that discriminated ILCs from IDCs, with many genes involved in cell adhesion, motility, apoptosis, protein folding, extracellular matrix and protein phosphorylation. Although ILCs and IDCs share common alterations, our data show that ILCs and IDCs could be distinguished on the basis of their genomic and expression profiles suggesting that they evolve along distinct genetic pathways.')]"
      ]
     },
     "execution_count": 7,
     "metadata": {},
     "output_type": "execute_result"
    }
   ],
   "source": [
    "res.fetchall()"
   ]
  },
  {
   "cell_type": "code",
   "execution_count": null,
   "metadata": {},
   "outputs": [],
   "source": []
  },
  {
   "cell_type": "code",
   "execution_count": null,
   "metadata": {},
   "outputs": [],
   "source": []
  },
  {
   "cell_type": "code",
   "execution_count": null,
   "metadata": {},
   "outputs": [],
   "source": []
  }
 ],
 "metadata": {
  "kernelspec": {
   "display_name": "Python 3",
   "language": "python",
   "name": "python3"
  },
  "language_info": {
   "codemirror_mode": {
    "name": "ipython",
    "version": 3
   },
   "file_extension": ".py",
   "mimetype": "text/x-python",
   "name": "python",
   "nbconvert_exporter": "python",
   "pygments_lexer": "ipython3",
   "version": "3.7.6"
  }
 },
 "nbformat": 4,
 "nbformat_minor": 4
}
